{
 "cells": [
  {
   "cell_type": "code",
   "execution_count": 6,
   "metadata": {},
   "outputs": [
    {
     "name": "stdout",
     "output_type": "stream",
     "text": [
      "1\n",
      "dog\n"
     ]
    }
   ],
   "source": [
    "# import tensorflow\n",
    "# import numpy\n",
    "# import scipy\n",
    "# import sympy\n",
    "# import matplotlib\n",
    "# import sklearn\n",
    "# import pandas\n",
    "\n",
    "if __name__ == \"__main__\":\n",
    "\n",
    "    def animal(n):\n",
    "        print(n)\n",
    "        return animal\n",
    "\n",
    "    (animal(1)('dog'))"
   ]
  }
 ],
 "metadata": {
  "kernelspec": {
   "display_name": "ml",
   "language": "python",
   "name": "python3"
  },
  "language_info": {
   "codemirror_mode": {
    "name": "ipython",
    "version": 3
   },
   "file_extension": ".py",
   "mimetype": "text/x-python",
   "name": "python",
   "nbconvert_exporter": "python",
   "pygments_lexer": "ipython3",
   "version": "3.11.7"
  }
 },
 "nbformat": 4,
 "nbformat_minor": 2
}
